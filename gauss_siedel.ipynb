{
 "cells": [
  {
   "cell_type": "code",
   "execution_count": 1,
   "metadata": {},
   "outputs": [],
   "source": [
    "import pandas as pd\n",
    "import numpy as np"
   ]
  },
  {
   "cell_type": "code",
   "execution_count": 5,
   "metadata": {},
   "outputs": [
    {
     "name": "stdout",
     "output_type": "stream",
     "text": [
      "Solution: [ 0.80508481  0.32203385 -0.29661017]\n",
      "Number of iterations: 11\n"
     ]
    }
   ],
   "source": [
    "def gauss_siedel(A, B, tol=1e-6, max_iters=100):\n",
    "\n",
    "    if not np.all(np.abs(np.diagonal(A)) > np.sum(np.abs(A), axis=1) - np.abs(np.diagonal(A))):\n",
    "        raise ValueError(\"Matrix is not diagonal dominant\")\n",
    "    \n",
    "    n = A.shape[0]\n",
    "    X = np.zeros((max_iters+1, B.shape[0]))\n",
    "    k = 0\n",
    "\n",
    "    while True:\n",
    "        if k > max_iters:\n",
    "            break\n",
    "        k+=1\n",
    "        X[k] = X[k-1]\n",
    "        for i in range(n):\n",
    "            X[k, i] = (B[i, 0] - (np.dot(A[i], X[k]) - A[i, i] * X[k, i])) / A[i, i]\n",
    "\n",
    "        if np.all(np.abs(X[k] - X[k-1]) < tol):\n",
    "            break\n",
    "\n",
    "    return X, k\n",
    "\n",
    "A = np.array([[9, 2, 3], [1, 12, 9], [4, 6, 14]])\n",
    "B = np.array([7, 2, 1]).reshape(-1, 1)\n",
    "\n",
    "X, k = gauss_siedel(A, B)\n",
    "print(\"Solution:\", X[k])\n",
    "print(\"Number of iterations:\", k)\n"
   ]
  }
 ],
 "metadata": {
  "kernelspec": {
   "display_name": "testEnvironment",
   "language": "python",
   "name": "python3"
  },
  "language_info": {
   "codemirror_mode": {
    "name": "ipython",
    "version": 3
   },
   "file_extension": ".py",
   "mimetype": "text/x-python",
   "name": "python",
   "nbconvert_exporter": "python",
   "pygments_lexer": "ipython3",
   "version": "3.12.2"
  }
 },
 "nbformat": 4,
 "nbformat_minor": 2
}
