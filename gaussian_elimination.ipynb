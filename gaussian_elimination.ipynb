{
 "cells": [
  {
   "cell_type": "code",
   "execution_count": 1,
   "metadata": {},
   "outputs": [],
   "source": [
    "import pandas as pd\n",
    "import numpy as np"
   ]
  },
  {
   "cell_type": "code",
   "execution_count": 36,
   "metadata": {},
   "outputs": [],
   "source": [
    "def gauss_elimination(A, B):\n",
    "    if A.shape[0] != A.shape[1]:\n",
    "        raise ValueError(\"Matrix A must be square\")\n",
    "    if A.shape[0] != B.shape[0]:\n",
    "        raise ValueError(\"Matrix A and B must have the same number of rows\")\n",
    "    \n",
    "    #create augmented matrix\n",
    "    augmented = np.concatenate((A,B), axis=1, dtype=np.float64)\n",
    "\n",
    "    n = A.shape[0]\n",
    "    for i in range(n):\n",
    "        pivot = augmented[i, i]\n",
    "        if pivot == 0:\n",
    "            raise ValueError(\"Pivot element is zero\")\n",
    "        for j in range(i+1, n):\n",
    "            scaling_factor = augmented[j, i] / pivot\n",
    "            # A[j, :] -= scaling_factor * A[i, :]\n",
    "            augmented[j, :] -= scaling_factor * augmented[i, :]\n",
    "\n",
    "        print(augmented)"
   ]
  },
  {
   "cell_type": "code",
   "execution_count": 43,
   "metadata": {},
   "outputs": [
    {
     "data": {
      "text/plain": [
       "array([[15,  2,  0],\n",
       "       [ 2,  1,  3],\n",
       "       [ 1,  3,  1]])"
      ]
     },
     "execution_count": 43,
     "metadata": {},
     "output_type": "execute_result"
    }
   ],
   "source": [
    "A = np.array([[2,1,3],[15,2,0],[1,3,1]])\n",
    "B = np.array([10, 5, 3]).reshape(-1,1)\n",
    "# gauss_elimination(A,B)\n",
    "A[[0, 1]] = A[[1, 0]]\n",
    "A"
   ]
  },
  {
   "cell_type": "code",
   "execution_count": 57,
   "metadata": {},
   "outputs": [],
   "source": [
    "def gauss_elimination_with_partial_pivot(A, B):\n",
    "\n",
    "    A = A.astype(np.float64)\n",
    "    B = B.astype(np.float64)\n",
    "\n",
    "    if A.shape[0] != A.shape[1]:\n",
    "        raise ValueError(\"Matrix A must be square\")\n",
    "\n",
    "    if A.shape[0] != B.shape[0]:\n",
    "        raise ValueError(\"Matrix A and B must have the same number of rows\")\n",
    "    \n",
    "    augmented = np.hstack((A, B))\n",
    "\n",
    "    n = A.shape[0]\n",
    "\n",
    "    for i in range(n):\n",
    "\n",
    "        max_row = np.argmax(np.abs(augmented[i:, i])) + i\n",
    "        if augmented[max_row, i] == 0:\n",
    "            raise ValueError(\"Matrix is Singular\")\n",
    "        if max_row != i:\n",
    "            augmented[[i, max_row]] = augmented[[max_row, i]]\n",
    "\n",
    "        for j in range(i+1, n):\n",
    "            scaling_factor = augmented[j, i] / augmented[i, i]\n",
    "            augmented[j, :] -= scaling_factor * augmented[i, :]\n",
    "        print(augmented)\n",
    "\n",
    "    x = np.zeros((n, 1))\n",
    "    for i in range(n-1, -1, -1):\n",
    "        x[i] = (augmented[i, -1] - np.dot(augmented[i, i+1:n], x[i+1:n].flatten())) / augmented[i, i]\n",
    "\n",
    "    return x"
   ]
  },
  {
   "cell_type": "code",
   "execution_count": 58,
   "metadata": {},
   "outputs": [
    {
     "name": "stdout",
     "output_type": "stream",
     "text": [
      "[[ 50.    47.    48.    77.  ]\n",
      " [  0.    17.6   69.4    7.6 ]\n",
      " [  0.   382.02  -4.32   6.82]]\n",
      "[[ 50.          47.          48.          77.        ]\n",
      " [  0.         382.02        -4.32         6.82      ]\n",
      " [  0.           0.          69.59902623   7.28579656]]\n",
      "[[ 50.          47.          48.          77.        ]\n",
      " [  0.         382.02        -4.32         6.82      ]\n",
      " [  0.           0.          69.59902623   7.28579656]]\n"
     ]
    },
    {
     "data": {
      "text/plain": [
       "array([[1.42161077],\n",
       "       [0.01903625],\n",
       "       [0.10468245]])"
      ]
     },
     "execution_count": 58,
     "metadata": {},
     "output_type": "execute_result"
    }
   ],
   "source": [
    "A = np.array([[50,47,48],[10,27,79],[17,398,12]])\n",
    "B = np.array([77, 23, 33]).reshape(-1,1)\n",
    "gauss_elimination_with_partial_pivot(A,B)"
   ]
  }
 ],
 "metadata": {
  "kernelspec": {
   "display_name": "testEnvironment",
   "language": "python",
   "name": "python3"
  },
  "language_info": {
   "codemirror_mode": {
    "name": "ipython",
    "version": 3
   },
   "file_extension": ".py",
   "mimetype": "text/x-python",
   "name": "python",
   "nbconvert_exporter": "python",
   "pygments_lexer": "ipython3",
   "version": "3.12.2"
  }
 },
 "nbformat": 4,
 "nbformat_minor": 2
}
